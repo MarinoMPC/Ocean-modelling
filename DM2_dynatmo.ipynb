{
 "cells": [
  {
   "cell_type": "code",
   "execution_count": 1,
   "metadata": {},
   "outputs": [],
   "source": [
    "import numpy as np\n",
    "from matplotlib import pyplot as plt"
   ]
  },
  {
   "cell_type": "code",
   "execution_count": 5,
   "metadata": {},
   "outputs": [],
   "source": [
    "pouissance=0.9217"
   ]
  },
  {
   "cell_type": "code",
   "execution_count": 23,
   "metadata": {},
   "outputs": [],
   "source": [
    "def integrale(tau_trop,tau_inf,n):\n",
    "    tau_prime=np.linspace(0,tau_trop,1000)\n",
    "    dtau=tau_prime[1:]-tau_prime[:-1]\n",
    "    integrand=(1-tau_prime[:-1]/tau_inf)**(pouissance/(n+1))*np.exp(tau_prime[:-1]-tau_trop)*dtau\n",
    "    return(np.sum(integrand))\n",
    "\n",
    "def f(tau_trop,tau_inf,n):\n",
    "    return((1+tau_inf-tau_trop)/(2+tau_inf-tau_trop)*(np.exp(-tau_trop)+integrale(tau_trop,tau_inf,n))-(1-tau_trop/tau_inf)**(pouissance/(n+1)))"
   ]
  },
  {
   "cell_type": "code",
   "execution_count": 64,
   "metadata": {},
   "outputs": [
    {
     "data": {
      "text/plain": [
       "[<matplotlib.lines.Line2D at 0x7fa54f578cd0>]"
      ]
     },
     "execution_count": 64,
     "metadata": {},
     "output_type": "execute_result"
    },
    {
     "data": {
      "image/png": "[encoded data removed]",
      "text/plain": [
       "<Figure size 720x720 with 1 Axes>"
      ]
     },
     "metadata": {
      "needs_background": "light"
     },
     "output_type": "display_data"
    }
   ],
   "source": [
    "fig,ax=plt.subplots(figsize=(10,10))\n",
    "n=1\n",
    "tau_inf=1\n",
    "tau_trop=np.linspace(0,1,10000)\n",
    "ax.plot(tau_trop,f(tau_trop,tau_inf,n))"
   ]
  },
  {
   "cell_type": "code",
   "execution_count": 47,
   "metadata": {},
   "outputs": [],
   "source": [
    "def samesign(a, b):\n",
    "    return a * b > 0\n",
    "\n",
    "def bisect(f, tau_inf, n, a, b, N, i):\n",
    "    'Find root of continuous function where f(low) and f(high) have opposite signs'\n",
    "\n",
    "    assert not samesign(f(a,tau_inf[i],n), f(b,tau_inf[i],n))\n",
    "\n",
    "    for i in range(N):\n",
    "        midpoint = (a + b) / 2.0\n",
    "        if samesign(f(a,tau_inf[i],n), f(midpoint,tau_inf[i],n)):\n",
    "            a = midpoint\n",
    "        else:\n",
    "            b = midpoint\n",
    "\n",
    "    return midpoint\n",
    "\n"
   ]
  },
  {
   "cell_type": "code",
   "execution_count": 57,
   "metadata": {},
   "outputs": [
    {
     "name": "stderr",
     "output_type": "stream",
     "text": [
      "/home/brout/anaconda3/lib/python3.7/site-packages/ipykernel_launcher.py:4: RuntimeWarning: invalid value encountered in true_divide\n",
      "  after removing the cwd from sys.path.\n",
      "/home/brout/anaconda3/lib/python3.7/site-packages/ipykernel_launcher.py:8: RuntimeWarning: invalid value encountered in double_scalars\n",
      "  \n",
      "/home/brout/anaconda3/lib/python3.7/site-packages/ipykernel_launcher.py:4: RuntimeWarning: divide by zero encountered in true_divide\n",
      "  after removing the cwd from sys.path.\n",
      "/home/brout/anaconda3/lib/python3.7/site-packages/ipykernel_launcher.py:8: RuntimeWarning: divide by zero encountered in double_scalars\n",
      "  \n",
      "/home/brout/anaconda3/lib/python3.7/site-packages/ipykernel_launcher.py:4: RuntimeWarning: invalid value encountered in power\n",
      "  after removing the cwd from sys.path.\n"
     ]
    },
    {
     "ename": "AssertionError",
     "evalue": "",
     "output_type": "error",
     "traceback": [
      "\u001b[0;31m---------------------------------------------------------------------------\u001b[0m",
      "\u001b[0;31mAssertionError\u001b[0m                            Traceback (most recent call last)",
      "\u001b[0;32m<ipython-input-57-f22828258112>\u001b[0m in \u001b[0;36m<module>\u001b[0;34m\u001b[0m\n\u001b[1;32m      7\u001b[0m \u001b[0mtau_trop0\u001b[0m\u001b[0;34m=\u001b[0m\u001b[0;34m[\u001b[0m\u001b[0;34m]\u001b[0m\u001b[0;34m\u001b[0m\u001b[0;34m\u001b[0m\u001b[0m\n\u001b[1;32m      8\u001b[0m \u001b[0;32mfor\u001b[0m \u001b[0mi\u001b[0m \u001b[0;32min\u001b[0m \u001b[0mrange\u001b[0m\u001b[0;34m(\u001b[0m\u001b[0mtau_inf\u001b[0m\u001b[0;34m.\u001b[0m\u001b[0mshape\u001b[0m\u001b[0;34m[\u001b[0m\u001b[0;36m0\u001b[0m\u001b[0;34m]\u001b[0m\u001b[0;34m)\u001b[0m\u001b[0;34m:\u001b[0m\u001b[0;34m\u001b[0m\u001b[0;34m\u001b[0m\u001b[0m\n\u001b[0;32m----> 9\u001b[0;31m     \u001b[0mtau_trop0\u001b[0m\u001b[0;34m.\u001b[0m\u001b[0mappend\u001b[0m\u001b[0;34m(\u001b[0m\u001b[0mbisect\u001b[0m\u001b[0;34m(\u001b[0m\u001b[0mf\u001b[0m\u001b[0;34m,\u001b[0m\u001b[0mtau_inf\u001b[0m\u001b[0;34m,\u001b[0m\u001b[0mn\u001b[0m\u001b[0;34m,\u001b[0m\u001b[0ma\u001b[0m\u001b[0;34m,\u001b[0m\u001b[0mb\u001b[0m\u001b[0;34m,\u001b[0m\u001b[0mN\u001b[0m\u001b[0;34m,\u001b[0m\u001b[0mi\u001b[0m\u001b[0;34m)\u001b[0m\u001b[0;34m)\u001b[0m\u001b[0;34m\u001b[0m\u001b[0;34m\u001b[0m\u001b[0m\n\u001b[0m\u001b[1;32m     10\u001b[0m \u001b[0;34m\u001b[0m\u001b[0m\n\u001b[1;32m     11\u001b[0m \u001b[0mn\u001b[0m\u001b[0;34m=\u001b[0m\u001b[0;36m1\u001b[0m\u001b[0;34m\u001b[0m\u001b[0;34m\u001b[0m\u001b[0m\n",
      "\u001b[0;32m<ipython-input-47-542576d12f31>\u001b[0m in \u001b[0;36mbisect\u001b[0;34m(f, tau_inf, n, a, b, N, i)\u001b[0m\n\u001b[1;32m      5\u001b[0m     \u001b[0;34m'Find root of continuous function where f(low) and f(high) have opposite signs'\u001b[0m\u001b[0;34m\u001b[0m\u001b[0;34m\u001b[0m\u001b[0m\n\u001b[1;32m      6\u001b[0m \u001b[0;34m\u001b[0m\u001b[0m\n\u001b[0;32m----> 7\u001b[0;31m     \u001b[0;32massert\u001b[0m \u001b[0;32mnot\u001b[0m \u001b[0msamesign\u001b[0m\u001b[0;34m(\u001b[0m\u001b[0mf\u001b[0m\u001b[0;34m(\u001b[0m\u001b[0ma\u001b[0m\u001b[0;34m,\u001b[0m\u001b[0mtau_inf\u001b[0m\u001b[0;34m[\u001b[0m\u001b[0mi\u001b[0m\u001b[0;34m]\u001b[0m\u001b[0;34m,\u001b[0m\u001b[0mn\u001b[0m\u001b[0;34m)\u001b[0m\u001b[0;34m,\u001b[0m \u001b[0mf\u001b[0m\u001b[0;34m(\u001b[0m\u001b[0mb\u001b[0m\u001b[0;34m,\u001b[0m\u001b[0mtau_inf\u001b[0m\u001b[0;34m[\u001b[0m\u001b[0mi\u001b[0m\u001b[0;34m]\u001b[0m\u001b[0;34m,\u001b[0m\u001b[0mn\u001b[0m\u001b[0;34m)\u001b[0m\u001b[0;34m)\u001b[0m\u001b[0;34m\u001b[0m\u001b[0;34m\u001b[0m\u001b[0m\n\u001b[0m\u001b[1;32m      8\u001b[0m \u001b[0;34m\u001b[0m\u001b[0m\n\u001b[1;32m      9\u001b[0m     \u001b[0;32mfor\u001b[0m \u001b[0mi\u001b[0m \u001b[0;32min\u001b[0m \u001b[0mrange\u001b[0m\u001b[0;34m(\u001b[0m\u001b[0mN\u001b[0m\u001b[0;34m)\u001b[0m\u001b[0;34m:\u001b[0m\u001b[0;34m\u001b[0m\u001b[0;34m\u001b[0m\u001b[0m\n",
      "\u001b[0;31mAssertionError\u001b[0m: "
     ]
    }
   ],
   "source": [
    "N=100\n",
    "a,b=0,1\n",
    "tau_inf=np.linspace(0,10,1000)\n",
    "\n",
    "#n=0\n",
    "n=0\n",
    "tau_trop0=[]\n",
    "for i in range(tau_inf.shape[0]):\n",
    "    tau_trop0.append(bisect(f,tau_inf,n,a,b,N,i))\n",
    "\n",
    "n=1\n",
    "tau_trop1=[]\n",
    "for i in range(tau_inf.shape[0]):\n",
    "    tau_trop1.append(bisect(f,tau_inf,n,a,b,N,i))\n",
    "    \n",
    "n=2\n",
    "tau_trop2=[]\n",
    "for i in range(tau_inf.shape[0]):\n",
    "    tau_trop2.append(bisect(f,tau_inf,n,a,b,N,i))\n",
    "    \n",
    "n=3\n",
    "tau_trop3=[]\n",
    "for i in range(tau_inf.shape[0]):\n",
    "    tau_trop3.append(bisect(f,tau_inf,n,a,b,N,i))\n",
    "    \n",
    "n=4\n",
    "tau_trop4=[]\n",
    "for i in range(tau_inf.shape[0]):\n",
    "    tau_trop4.append(bisect(f,tau_inf,n,a,b,N,i))\n"
   ]
  },
  {
   "cell_type": "code",
   "execution_count": null,
   "metadata": {},
   "outputs": [],
   "source": [
    "fig,ax=plt.subplots(figsize=(10,10))\n",
    "#ax.plot(tau_inf,1-tau_trop0/tau_inf,label='n=0')\n",
    "#ax.plot(tau_inf,1-tau_trop1/tau_inf,label='n=1')\n",
    "#ax.plot(tau_inf,1-tau_trop2/tau_inf,label='n=2')\n",
    "#ax.plot(tau_inf,1-tau_trop3/tau_inf,label='n=3')\n",
    "ax.plot(tau_inf,1-tau_trop4/tau_inf,label='n=4')\n",
    "ax.set_xlabel(r'$\\tau_\\infty$',fontsize=13)\n",
    "ax.set_ylabel(r'$1-\\frac{\\tau_{trop}}{\\tau_\\infty}$')\n",
    "\n"
   ]
  },
  {
   "cell_type": "code",
   "execution_count": null,
   "metadata": {},
   "outputs": [],
   "source": []
  }
 ],
 "metadata": {
  "kernelspec": {
   "display_name": "Python 3",
   "language": "python",
   "name": "python3"
  },
  "language_info": {
   "codemirror_mode": {
    "name": "ipython",
    "version": 3
   },
   "file_extension": ".py",
   "mimetype": "text/x-python",
   "name": "python",
   "nbconvert_exporter": "python",
   "pygments_lexer": "ipython3",
   "version": "3.7.4"
  }
 },
 "nbformat": 4,
 "nbformat_minor": 2
}
